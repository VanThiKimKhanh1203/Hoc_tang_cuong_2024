{
  "nbformat": 4,
  "nbformat_minor": 0,
  "metadata": {
    "colab": {
      "provenance": [],
      "authorship_tag": "ABX9TyP6720bX0y9S+HBiQzSVCon",
      "include_colab_link": true
    },
    "kernelspec": {
      "name": "python3",
      "display_name": "Python 3"
    },
    "language_info": {
      "name": "python"
    }
  },
  "cells": [
    {
      "cell_type": "markdown",
      "metadata": {
        "id": "view-in-github",
        "colab_type": "text"
      },
      "source": [
        "<a href=\"https://colab.research.google.com/github/VanThiKimKhanh1203/Hoc_tang_cuong_2024/blob/main/bai2_giuaky_VTKKhanh.ipynb\" target=\"_parent\"><img src=\"https://colab.research.google.com/assets/colab-badge.svg\" alt=\"Open In Colab\"/></a>"
      ]
    },
    {
      "cell_type": "code",
      "execution_count": 1,
      "metadata": {
        "id": "ZP_10F68so5l"
      },
      "outputs": [],
      "source": [
        "import numpy as np\n",
        "import random\n",
        "import pandas as pd"
      ]
    },
    {
      "cell_type": "code",
      "source": [
        "# Hàm chuyển trạng thái\n",
        "def move(state, action):\n",
        "    x, y = state\n",
        "    if action == 'Up' and x > 0:\n",
        "        return x - 1, y\n",
        "    elif action == 'Down' and x < M - 1:\n",
        "        return x + 1, y\n",
        "    elif action == 'Left' and y > 0:\n",
        "        return x, y - 1\n",
        "    elif action == 'Right' and y < N - 1:\n",
        "        return x, y + 1\n",
        "    return state\n",
        "\n",
        "# Hàm chọn hành động với độ chính xác 80%\n",
        "def take_action(action):\n",
        "    if random.uniform(0, 1) < 0.8:\n",
        "        return action\n",
        "    else:\n",
        "        return random.choice([a for a in actions if a != action])\n"
      ],
      "metadata": {
        "id": "cQIUSC8assi-"
      },
      "execution_count": 2,
      "outputs": []
    },
    {
      "cell_type": "code",
      "source": [
        "# Hàm liệt kê tất cả các đường đi khả thi\n",
        "def find_all_paths(state, path, visited, target):\n",
        "    if state == target:\n",
        "        all_paths.append(path[:])\n",
        "        return\n",
        "    x, y = state\n",
        "    visited[x][y] = True\n",
        "\n",
        "    for action in actions:\n",
        "        next_state = move(state, action)\n",
        "        nx, ny = next_state\n",
        "        if not visited[nx][ny] and rewards[nx, ny] != -1:\n",
        "            path.append((state, action, next_state))\n",
        "            find_all_paths(next_state, path, visited, target)\n",
        "            path.pop()\n",
        "\n",
        "    visited[x][y] = False"
      ],
      "metadata": {
        "id": "VogHK9QSsu_c"
      },
      "execution_count": 3,
      "outputs": []
    },
    {
      "cell_type": "code",
      "source": [
        "# Nhập dữ liệu từ người dùng\n",
        "M = int(input(\"Nhập số hàng M: \"))\n",
        "N = int(input(\"Nhập số cột N: \"))\n",
        "num_penalty = int(input(\"Số ô có điểm -1: \"))\n",
        "penalty_cells = []\n",
        "for _ in range(num_penalty):\n",
        "    x, y = map(int, input(\"Nhập tọa độ ô có điểm -1 (dòng, cột): \").split())\n",
        "    penalty_cells.append((x - 1, y - 1))\n",
        "\n",
        "goal = tuple(map(int, input(\"Nhập tọa độ ô có điểm +10 (dòng, cột): \").split()))\n",
        "goal = (goal[0] - 1, goal[1] - 1)\n",
        "sub_goal = tuple(map(int, input(\"Nhập tọa độ ô có điểm +6 (dòng, cột): \").split()))\n",
        "sub_goal = (sub_goal[0] - 1, sub_goal[1] - 1)\n",
        "start = tuple(map(int, input(\"Nhập tọa độ xuất phát của robot (dòng, cột): \").split()))\n",
        "start = (start[0] - 1, start[1] - 1)"
      ],
      "metadata": {
        "colab": {
          "base_uri": "https://localhost:8080/"
        },
        "id": "mt6OsUqFsxyl",
        "outputId": "0d391625-9e5b-4bfd-ba74-dce4b6ebd476"
      },
      "execution_count": 4,
      "outputs": [
        {
          "name": "stdout",
          "output_type": "stream",
          "text": [
            "Nhập số hàng M: 3\n",
            "Nhập số cột N: 4\n",
            "Số ô có điểm -1: 1\n",
            "Nhập tọa độ ô có điểm -1 (dòng, cột): 2 2\n",
            "Nhập tọa độ ô có điểm +10 (dòng, cột): 2 4\n",
            "Nhập tọa độ ô có điểm +6 (dòng, cột): 2 3\n",
            "Nhập tọa độ xuất phát của robot (dòng, cột): 3 1\n"
          ]
        }
      ]
    },
    {
      "cell_type": "code",
      "source": [
        "# Thiết lập các thông số của môi trường\n",
        "actions = ['Up', 'Down', 'Left', 'Right']\n",
        "rewards = np.zeros((M, N))\n",
        "rewards[goal] = 10\n",
        "rewards[sub_goal] = 6\n",
        "for cell in penalty_cells:\n",
        "    rewards[cell] = -1\n",
        "\n",
        "# Thông số Q-learning\n",
        "Q = np.zeros((M, N, len(actions)))\n",
        "gamma = 0.9  # Hệ số giảm phần thưởng\n",
        "alpha = 0.1  # Tốc độ học\n",
        "epsilon = 0.1  # Tham số khám phá\n",
        "\n",
        "# Q-learning\n",
        "for episode in range(1000):\n",
        "    state = start\n",
        "    while state != goal:\n",
        "        # Chọn hành động với epsilon-greedy\n",
        "        if random.uniform(0, 1) < epsilon:\n",
        "            action = random.choice(actions)\n",
        "        else:\n",
        "            action = actions[np.argmax(Q[state[0], state[1]])]\n",
        "        # Áp dụng độ chính xác 80%\n",
        "        action = take_action(action)\n",
        "        # Tính trạng thái kế tiếp\n",
        "        next_state = move(state, action)\n",
        "        reward = rewards[next_state]\n",
        "        # Cập nhật Q-value\n",
        "        Q[state[0], state[1], actions.index(action)] += alpha * (\n",
        "            reward + gamma * np.max(Q[next_state[0], next_state[1]]) - Q[state[0], state[1], actions.index(action)]\n",
        "        )\n",
        "        state = next_state\n"
      ],
      "metadata": {
        "id": "bSeLRbQcs1IQ"
      },
      "execution_count": 5,
      "outputs": []
    },
    {
      "cell_type": "code",
      "source": [
        "# Tìm và hiển thị đường đi tối ưu đến sub_goal (+6)\n",
        "state = start\n",
        "optimal_path_to_sub_goal = []\n",
        "while state != sub_goal:\n",
        "    action = actions[np.argmax(Q[state[0], state[1]])]\n",
        "    action = take_action(action)\n",
        "    next_state = move(state, action)\n",
        "    optimal_path_to_sub_goal.append((state, action, next_state))\n",
        "    state = next_state\n",
        "\n",
        "print(\"\\nĐường đi tối ưu đến sub_goal (+6):\")\n",
        "optimal_path_to_sub_goal_str = \" ; \".join(f\"({step[0][0]}, {step[0][1]}) {step[1]} ({step[2][0]}, {step[2][1]})\" for step in optimal_path_to_sub_goal)\n",
        "print(f\"• {optimal_path_to_sub_goal_str}\")\n",
        "print(f\"• {rewards[sub_goal]}\")"
      ],
      "metadata": {
        "colab": {
          "base_uri": "https://localhost:8080/"
        },
        "id": "dDGAeFqKs3Lx",
        "outputId": "32eaf8a5-b00a-4475-805c-385b372c71a4"
      },
      "execution_count": 6,
      "outputs": [
        {
          "output_type": "stream",
          "name": "stdout",
          "text": [
            "\n",
            "Đường đi tối ưu đến sub_goal (+6):\n",
            "• (2, 0) Left (2, 0) ; (2, 0) Right (2, 1) ; (2, 1) Right (2, 2) ; (2, 2) Up (1, 2)\n",
            "• 6.0\n"
          ]
        }
      ]
    },
    {
      "cell_type": "code",
      "source": [
        "# Tìm và hiển thị đường đi tối ưu đến goal (+10)\n",
        "state = sub_goal\n",
        "optimal_path_to_goal = []\n",
        "while state != goal:\n",
        "    action = actions[np.argmax(Q[state[0], state[1]])]\n",
        "    action = take_action(action)\n",
        "    next_state = move(state, action)\n",
        "    optimal_path_to_goal.append((state, action, next_state))\n",
        "    state = next_state\n",
        "\n",
        "print(\"\\nĐường đi tối ưu đến goal (+10):\")\n",
        "optimal_path_to_goal_str = \" ; \".join(f\"({step[0][0]}, {step[0][1]}) {step[1]} ({step[2][0]}, {step[2][1]})\" for step in optimal_path_to_goal)\n",
        "print(f\"• {optimal_path_to_goal_str}\")\n",
        "print(f\"• {rewards[goal]}\")"
      ],
      "metadata": {
        "colab": {
          "base_uri": "https://localhost:8080/"
        },
        "id": "NSjkRRHOs5DI",
        "outputId": "f5fca2d7-b7d9-4983-8f83-7e3000b26992"
      },
      "execution_count": 14,
      "outputs": [
        {
          "output_type": "stream",
          "name": "stdout",
          "text": [
            "\n",
            "Đường đi tối ưu đến goal (+10):\n",
            "• (1, 2) Up (0, 2) ; (0, 2) Down (1, 2) ; (1, 2) Up (0, 2) ; (0, 2) Down (1, 2) ; (1, 2) Down (2, 2) ; (2, 2) Up (1, 2) ; (1, 2) Up (0, 2) ; (0, 2) Down (1, 2) ; (1, 2) Right (1, 3)\n",
            "• 10.0\n"
          ]
        }
      ]
    },
    {
      "cell_type": "code",
      "source": [
        "# Hiển thị bảng hướng di chuyển\n",
        "action_symbols = {'Up': '^', 'Down': 'v', 'Left': '<', 'Right': '>'}\n",
        "directions_to_sub_goal = np.full((M, N), '', dtype=object)\n",
        "directions_to_goal = np.full((M, N), '', dtype=object)\n",
        "\n",
        "for i in range(M):\n",
        "    for j in range(N):\n",
        "        if (i, j) == goal:\n",
        "            directions_to_goal[i, j] = '+10'\n",
        "        elif (i, j) == sub_goal:\n",
        "            directions_to_sub_goal[i, j] = '+6'\n",
        "        elif (i, j) in penalty_cells:\n",
        "            directions_to_goal[i, j] = directions_to_sub_goal[i, j] = '-1'\n",
        "        elif (i, j) == start:\n",
        "            directions_to_goal[i, j] = directions_to_sub_goal[i, j] = 'S'\n",
        "        else:\n",
        "            # Hướng đến sub_goal\n",
        "            if rewards[i, j] == 6 or (rewards[sub_goal] and sub_goal != goal):\n",
        "                best_action = actions[np.argmax(Q[i, j])]\n",
        "                directions_to_sub_goal[i, j] = action_symbols[best_action]\n",
        "            # Hướng đến goal\n",
        "            if rewards[i, j] == 10 or (rewards[goal] and sub_goal != goal):\n",
        "                best_action = actions[np.argmax(Q[i, j])]\n",
        "                directions_to_goal[i, j] = action_symbols[best_action]\n",
        "\n",
        "print(\"\\nBảng hướng di chuyển đến sub_goal (+6):\")\n",
        "print(pd.DataFrame(directions_to_sub_goal))\n",
        "\n",
        "print(\"\\nBảng hướng di chuyển đến goal (+10):\")\n",
        "print(pd.DataFrame(directions_to_goal))\n"
      ],
      "metadata": {
        "colab": {
          "base_uri": "https://localhost:8080/"
        },
        "id": "KtRpTYXwty6L",
        "outputId": "cf7c39f1-8f02-4131-adee-75588b7ac923"
      },
      "execution_count": 15,
      "outputs": [
        {
          "output_type": "stream",
          "name": "stdout",
          "text": [
            "\n",
            "Bảng hướng di chuyển đến sub_goal (+6):\n",
            "   0   1   2  3\n",
            "0  v   >   v  <\n",
            "1  >  -1  +6   \n",
            "2  S   >   ^  <\n",
            "\n",
            "Bảng hướng di chuyển đến goal (+10):\n",
            "   0   1  2    3\n",
            "0  v   >  v    <\n",
            "1  >  -1     +10\n",
            "2  S   >  ^    <\n"
          ]
        }
      ]
    },
    {
      "cell_type": "code",
      "source": [
        "# Liệt kê tất cả các đường đi khả thi\n",
        "visited = [[False for _ in range(N)] for _ in range(M)]\n",
        "all_paths = []"
      ],
      "metadata": {
        "id": "3L84icyAtC9n"
      },
      "execution_count": 16,
      "outputs": []
    },
    {
      "cell_type": "code",
      "source": [
        "# Liệt kê tất cả các đường đi khả thi\n",
        "visited = [[False for _ in range(N)] for _ in range(M)]\n",
        "all_paths = []\n",
        "\n",
        "# Tìm tất cả các đường đi khả thi đến sub_goal\n",
        "find_all_paths(start, [], visited, sub_goal)\n",
        "print(\"\\nTất cả các đường đi khả thi đến sub_goal (+6):\")\n",
        "for idx, path in enumerate(all_paths, 1):\n",
        "    print(f\"Đường đi {idx}:\")\n",
        "    for step in path:\n",
        "        print(f\"  ({step[0][0]}, {step[0][1]}) {step[1]} ({step[2][0]}, {step[2][1]})\")"
      ],
      "metadata": {
        "colab": {
          "base_uri": "https://localhost:8080/"
        },
        "id": "f1UkrZDftFTr",
        "outputId": "2e2fbebe-251c-4c9f-c533-1192f8a6444e"
      },
      "execution_count": 17,
      "outputs": [
        {
          "output_type": "stream",
          "name": "stdout",
          "text": [
            "\n",
            "Tất cả các đường đi khả thi đến sub_goal (+6):\n",
            "Đường đi 1:\n",
            "  (2, 0) Up (1, 0)\n",
            "  (1, 0) Up (0, 0)\n",
            "  (0, 0) Right (0, 1)\n",
            "  (0, 1) Right (0, 2)\n",
            "  (0, 2) Down (1, 2)\n",
            "Đường đi 2:\n",
            "  (2, 0) Up (1, 0)\n",
            "  (1, 0) Up (0, 0)\n",
            "  (0, 0) Right (0, 1)\n",
            "  (0, 1) Right (0, 2)\n",
            "  (0, 2) Right (0, 3)\n",
            "  (0, 3) Down (1, 3)\n",
            "  (1, 3) Down (2, 3)\n",
            "  (2, 3) Left (2, 2)\n",
            "  (2, 2) Up (1, 2)\n",
            "Đường đi 3:\n",
            "  (2, 0) Up (1, 0)\n",
            "  (1, 0) Up (0, 0)\n",
            "  (0, 0) Right (0, 1)\n",
            "  (0, 1) Right (0, 2)\n",
            "  (0, 2) Right (0, 3)\n",
            "  (0, 3) Down (1, 3)\n",
            "  (1, 3) Left (1, 2)\n",
            "Đường đi 4:\n",
            "  (2, 0) Right (2, 1)\n",
            "  (2, 1) Right (2, 2)\n",
            "  (2, 2) Up (1, 2)\n",
            "Đường đi 5:\n",
            "  (2, 0) Right (2, 1)\n",
            "  (2, 1) Right (2, 2)\n",
            "  (2, 2) Right (2, 3)\n",
            "  (2, 3) Up (1, 3)\n",
            "  (1, 3) Up (0, 3)\n",
            "  (0, 3) Left (0, 2)\n",
            "  (0, 2) Down (1, 2)\n",
            "Đường đi 6:\n",
            "  (2, 0) Right (2, 1)\n",
            "  (2, 1) Right (2, 2)\n",
            "  (2, 2) Right (2, 3)\n",
            "  (2, 3) Up (1, 3)\n",
            "  (1, 3) Left (1, 2)\n"
          ]
        }
      ]
    },
    {
      "cell_type": "code",
      "source": [
        "# Tìm tất cả các đường đi khả thi đến goal\n",
        "all_paths = []\n",
        "find_all_paths(sub_goal, [], visited, goal)\n",
        "print(\"\\nTất cả các đường đi khả thi đến goal (+10):\")\n",
        "for idx, path in enumerate(all_paths, 1):\n",
        "    print(f\"Đường đi {idx}:\")\n",
        "    for step in path:\n",
        "        print(f\"  ({step[0][0]}, {step[0][1]}) {step[1]} ({step[2][0]}, {step[2][1]})\")"
      ],
      "metadata": {
        "colab": {
          "base_uri": "https://localhost:8080/"
        },
        "id": "LU_qVsyrtJEq",
        "outputId": "dffd43e5-e8f8-4ddf-bdaf-66e92f939320"
      },
      "execution_count": 18,
      "outputs": [
        {
          "output_type": "stream",
          "name": "stdout",
          "text": [
            "\n",
            "Tất cả các đường đi khả thi đến goal (+10):\n",
            "Đường đi 1:\n",
            "  (1, 2) Up (0, 2)\n",
            "  (0, 2) Left (0, 1)\n",
            "  (0, 1) Left (0, 0)\n",
            "  (0, 0) Down (1, 0)\n",
            "  (1, 0) Down (2, 0)\n",
            "  (2, 0) Right (2, 1)\n",
            "  (2, 1) Right (2, 2)\n",
            "  (2, 2) Right (2, 3)\n",
            "  (2, 3) Up (1, 3)\n",
            "Đường đi 2:\n",
            "  (1, 2) Up (0, 2)\n",
            "  (0, 2) Right (0, 3)\n",
            "  (0, 3) Down (1, 3)\n",
            "Đường đi 3:\n",
            "  (1, 2) Down (2, 2)\n",
            "  (2, 2) Left (2, 1)\n",
            "  (2, 1) Left (2, 0)\n",
            "  (2, 0) Up (1, 0)\n",
            "  (1, 0) Up (0, 0)\n",
            "  (0, 0) Right (0, 1)\n",
            "  (0, 1) Right (0, 2)\n",
            "  (0, 2) Right (0, 3)\n",
            "  (0, 3) Down (1, 3)\n",
            "Đường đi 4:\n",
            "  (1, 2) Down (2, 2)\n",
            "  (2, 2) Right (2, 3)\n",
            "  (2, 3) Up (1, 3)\n",
            "Đường đi 5:\n",
            "  (1, 2) Right (1, 3)\n"
          ]
        }
      ]
    }
  ]
}