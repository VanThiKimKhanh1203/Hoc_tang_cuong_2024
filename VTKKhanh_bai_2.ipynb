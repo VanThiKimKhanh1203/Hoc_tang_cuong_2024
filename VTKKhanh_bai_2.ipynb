{
  "nbformat": 4,
  "nbformat_minor": 0,
  "metadata": {
    "colab": {
      "provenance": [],
      "authorship_tag": "ABX9TyMtCOEThV2yL0J+yNAyfCEF",
      "include_colab_link": true
    },
    "kernelspec": {
      "name": "python3",
      "display_name": "Python 3"
    },
    "language_info": {
      "name": "python"
    }
  },
  "cells": [
    {
      "cell_type": "markdown",
      "metadata": {
        "id": "view-in-github",
        "colab_type": "text"
      },
      "source": [
        "<a href=\"https://colab.research.google.com/github/VanThiKimKhanh1203/Hoc_tang_cuong_2024/blob/main/VTKKhanh_bai_2.ipynb\" target=\"_parent\"><img src=\"https://colab.research.google.com/assets/colab-badge.svg\" alt=\"Open In Colab\"/></a>"
      ]
    },
    {
      "cell_type": "code",
      "source": [
        "import numpy as np\n",
        "import random\n",
        "import pandas as pd"
      ],
      "metadata": {
        "id": "K09N97S4o5Qh"
      },
      "execution_count": 4,
      "outputs": []
    },
    {
      "cell_type": "code",
      "source": [
        "# Hàm chuyển trạng thái\n",
        "def move(state, action):\n",
        "    x, y = state\n",
        "    if action == 'Up' and x > 0:\n",
        "        return x - 1, y\n",
        "    elif action == 'Down' and x < M - 1:\n",
        "        return x + 1, y\n",
        "    elif action == 'Left' and y > 0:\n",
        "        return x, y - 1\n",
        "    elif action == 'Right' and y < N - 1:\n",
        "        return x, y + 1\n",
        "    return state\n",
        "\n",
        "# Hàm chọn hành động với độ chính xác 80%\n",
        "def take_action(action):\n",
        "    if random.uniform(0, 1) < 0.8:\n",
        "        return action\n",
        "    else:\n",
        "        return random.choice([a for a in actions if a != action])"
      ],
      "metadata": {
        "id": "_RaLor4to9YN"
      },
      "execution_count": 5,
      "outputs": []
    },
    {
      "cell_type": "code",
      "source": [
        "# Hàm liệt kê tất cả các đường đi khả thi\n",
        "def find_all_paths(state, path, visited):\n",
        "    if state == goal:\n",
        "        all_paths.append(path[:])\n",
        "        return\n",
        "    x, y = state\n",
        "    visited[x][y] = True\n",
        "\n",
        "    for action in actions:\n",
        "        next_state = move(state, action)\n",
        "        nx, ny = next_state\n",
        "        if not visited[nx][ny] and rewards[nx, ny] != -1:\n",
        "            path.append((state, action, next_state))\n",
        "            find_all_paths(next_state, path, visited)\n",
        "            path.pop()\n",
        "\n",
        "    visited[x][y] = False"
      ],
      "metadata": {
        "id": "9Yl_JX2bo_up"
      },
      "execution_count": 6,
      "outputs": []
    },
    {
      "cell_type": "code",
      "source": [
        "# Nhập dữ liệu từ người dùng\n",
        "M = int(input(\"Nhập số hàng M: \"))\n",
        "N = int(input(\"Nhập số cột N: \"))\n",
        "num_penalty = int(input(\"Số ô có điểm -1: \"))\n",
        "penalty_cells = []\n",
        "for _ in range(num_penalty):\n",
        "    x, y = map(int, input(\"Nhập tọa độ ô có điểm -1 (dòng, cột): \").split())\n",
        "    penalty_cells.append((x - 1, y - 1))\n",
        "\n",
        "goal = tuple(map(int, input(\"Nhập tọa độ ô có điểm +10 (dòng, cột): \").split()))\n",
        "goal = (goal[0] - 1, goal[1] - 1)\n",
        "sub_goal = tuple(map(int, input(\"Nhập tọa độ ô có điểm +6 (dòng, cột): \").split()))\n",
        "sub_goal = (sub_goal[0] - 1, sub_goal[1] - 1)\n",
        "start = tuple(map(int, input(\"Nhập tọa độ xuất phát của robot (dòng, cột): \").split()))\n",
        "start = (start[0] - 1, start[1] - 1)"
      ],
      "metadata": {
        "colab": {
          "base_uri": "https://localhost:8080/"
        },
        "id": "8EGSUGHmpByT",
        "outputId": "083e45df-6ca5-4f79-dc35-325f94950477"
      },
      "execution_count": 7,
      "outputs": [
        {
          "name": "stdout",
          "output_type": "stream",
          "text": [
            "Nhập số hàng M: 3\n",
            "Nhập số cột N: 4\n",
            "Số ô có điểm -1: 1\n",
            "Nhập tọa độ ô có điểm -1 (dòng, cột): 2 2\n",
            "Nhập tọa độ ô có điểm +10 (dòng, cột): 2 4\n",
            "Nhập tọa độ ô có điểm +6 (dòng, cột): 2 3\n",
            "Nhập tọa độ xuất phát của robot (dòng, cột): 3 1\n"
          ]
        }
      ]
    },
    {
      "cell_type": "code",
      "source": [
        "# Thiết lập các thông số của môi trường\n",
        "actions = ['Up', 'Down', 'Left', 'Right']\n",
        "rewards = np.zeros((M, N))\n",
        "rewards[goal] = 10\n",
        "rewards[sub_goal] = 6\n",
        "for cell in penalty_cells:\n",
        "    rewards[cell] = -1\n",
        "\n",
        "# Thông số Q-learning\n",
        "Q = np.zeros((M, N, len(actions)))\n",
        "gamma = 0.9  # Hệ số giảm phần thưởng\n",
        "alpha = 0.1  # Tốc độ học\n",
        "epsilon = 0.1  # Tham số khám phá\n",
        "\n",
        "# Q-learning\n",
        "for episode in range(1000):\n",
        "    state = start\n",
        "    while state != goal:\n",
        "        # Chọn hành động với epsilon-greedy\n",
        "        if random.uniform(0, 1) < epsilon:\n",
        "            action = random.choice(actions)\n",
        "        else:\n",
        "            action = actions[np.argmax(Q[state[0], state[1]])]\n",
        "        # Áp dụng độ chính xác 80%\n",
        "        action = take_action(action)\n",
        "        # Tính trạng thái kế tiếp\n",
        "        next_state = move(state, action)\n",
        "        reward = rewards[next_state]\n",
        "        # Cập nhật Q-value\n",
        "        Q[state[0], state[1], actions.index(action)] += alpha * (\n",
        "            reward + gamma * np.max(Q[next_state[0], next_state[1]]) - Q[state[0], state[1], actions.index(action)]\n",
        "        )\n",
        "        state = next_state"
      ],
      "metadata": {
        "id": "BClLkuSnpFZY"
      },
      "execution_count": 8,
      "outputs": []
    },
    {
      "cell_type": "code",
      "source": [
        "# Tìm và hiển thị đường đi tối ưu\n",
        "state = start\n",
        "optimal_path = []\n",
        "while state != goal:\n",
        "    action = actions[np.argmax(Q[state[0], state[1]])]\n",
        "    action = take_action(action)\n",
        "    next_state = move(state, action)\n",
        "    optimal_path.append((state, action, next_state))\n",
        "    state = next_state\n",
        "\n",
        "# Hiển thị đường đi tối ưu\n",
        "print(\"\\nĐường đi tối ưu:\")\n",
        "optimal_path_str = \" ; \".join(f\"({step[0][0]}, {step[0][1]}) {step[1]} ({step[2][0]}, {step[2][1]})\" for step in optimal_path)\n",
        "print(f\"• {optimal_path_str}\")\n",
        "print(f\"• {rewards[goal]}\")"
      ],
      "metadata": {
        "colab": {
          "base_uri": "https://localhost:8080/"
        },
        "id": "vPhqfuaCpIS8",
        "outputId": "c96244d0-2903-4512-97c1-e7f99517417f"
      },
      "execution_count": 9,
      "outputs": [
        {
          "output_type": "stream",
          "name": "stdout",
          "text": [
            "\n",
            "Đường đi tối ưu:\n",
            "• (2, 0) Down (2, 0) ; (2, 0) Right (2, 1) ; (2, 1) Right (2, 2) ; (2, 2) Up (1, 2) ; (1, 2) Up (0, 2) ; (0, 2) Down (1, 2) ; (1, 2) Left (1, 1) ; (1, 1) Right (1, 2) ; (1, 2) Up (0, 2) ; (0, 2) Down (1, 2) ; (1, 2) Up (0, 2) ; (0, 2) Right (0, 3) ; (0, 3) Left (0, 2) ; (0, 2) Right (0, 3) ; (0, 3) Left (0, 2) ; (0, 2) Down (1, 2) ; (1, 2) Left (1, 1) ; (1, 1) Right (1, 2) ; (1, 2) Up (0, 2) ; (0, 2) Down (1, 2) ; (1, 2) Up (0, 2) ; (0, 2) Left (0, 1) ; (0, 1) Right (0, 2) ; (0, 2) Down (1, 2) ; (1, 2) Up (0, 2) ; (0, 2) Down (1, 2) ; (1, 2) Up (0, 2) ; (0, 2) Down (1, 2) ; (1, 2) Up (0, 2) ; (0, 2) Down (1, 2) ; (1, 2) Up (0, 2) ; (0, 2) Down (1, 2) ; (1, 2) Up (0, 2) ; (0, 2) Down (1, 2) ; (1, 2) Up (0, 2) ; (0, 2) Down (1, 2) ; (1, 2) Up (0, 2) ; (0, 2) Down (1, 2) ; (1, 2) Up (0, 2) ; (0, 2) Down (1, 2) ; (1, 2) Right (1, 3)\n",
            "• 10.0\n"
          ]
        }
      ]
    },
    {
      "cell_type": "code",
      "source": [
        "# In bảng Q-value tối ưu\n",
        "q_table = np.round(Q.max(axis=2), 2)\n",
        "df_q = pd.DataFrame(q_table)\n",
        "print(\"\\nBảng Q-value (giá trị tối ưu):\")\n",
        "print(df_q)"
      ],
      "metadata": {
        "colab": {
          "base_uri": "https://localhost:8080/"
        },
        "id": "puV4VXm_pKi6",
        "outputId": "b8e5e572-7a75-4d1d-84bf-f757d431090e"
      },
      "execution_count": 10,
      "outputs": [
        {
          "output_type": "stream",
          "name": "stdout",
          "text": [
            "\n",
            "Bảng Q-value (giá trị tối ưu):\n",
            "       0      1      2      3\n",
            "0  25.58  28.42  31.58  28.42\n",
            "1  27.42  31.58  28.42   0.00\n",
            "2  25.58  28.42  31.58  28.42\n"
          ]
        }
      ]
    },
    {
      "cell_type": "code",
      "source": [
        "# Hiển thị bảng hướng di chuyển\n",
        "action_symbols = {'Up': '^', 'Down': 'v', 'Left': '<', 'Right': '>'}\n",
        "directions = np.full((M, N), '', dtype=object)\n",
        "for i in range(M):\n",
        "    for j in range(N):\n",
        "        if (i, j) == goal:\n",
        "            directions[i, j] = '+10'\n",
        "        elif (i, j) == sub_goal:\n",
        "            directions[i, j] = '+6'\n",
        "        elif (i, j) == start:\n",
        "            directions[i, j] = 'S'\n",
        "        elif (i, j) in penalty_cells:\n",
        "            directions[i, j] = '-1'\n",
        "        else:\n",
        "            best_action = actions[np.argmax(Q[i, j])]\n",
        "            directions[i, j] = action_symbols[best_action]\n",
        "df_directions = pd.DataFrame(directions)\n",
        "print(\"\\nBảng hướng di chuyển:\")\n",
        "print(df_directions)"
      ],
      "metadata": {
        "colab": {
          "base_uri": "https://localhost:8080/"
        },
        "id": "nYjBl1QFpM9G",
        "outputId": "350574d2-4cb3-4c27-9c38-de96ee045401"
      },
      "execution_count": 11,
      "outputs": [
        {
          "output_type": "stream",
          "name": "stdout",
          "text": [
            "\n",
            "Bảng hướng di chuyển:\n",
            "   0   1   2    3\n",
            "0  >   >   v    <\n",
            "1  >  -1  +6  +10\n",
            "2  S   >   ^    <\n"
          ]
        }
      ]
    },
    {
      "cell_type": "code",
      "source": [
        "# Liệt kê tất cả các đường đi khả thi\n",
        "visited = [[False for _ in range(N)] for _ in range(M)]\n",
        "all_paths = []\n",
        "find_all_paths(start, [], visited)\n",
        "\n",
        "print(\"\\nTất cả các đường đi khả thi:\")\n",
        "for idx, path in enumerate(all_paths, 1):\n",
        "    print(f\"Đường đi {idx}:\")\n",
        "    for step in path:\n",
        "        print(f\"  ({step[0][0]}, {step[0][1]}) {step[1]} ({step[2][0]}, {step[2][1]})\")"
      ],
      "metadata": {
        "colab": {
          "base_uri": "https://localhost:8080/"
        },
        "id": "IFlUGzl9pP7h",
        "outputId": "482ba54b-3d17-4242-f4e3-aa4d619e97b4"
      },
      "execution_count": 12,
      "outputs": [
        {
          "output_type": "stream",
          "name": "stdout",
          "text": [
            "\n",
            "Tất cả các đường đi khả thi:\n",
            "Đường đi 1:\n",
            "  (2, 0) Up (1, 0)\n",
            "  (1, 0) Up (0, 0)\n",
            "  (0, 0) Right (0, 1)\n",
            "  (0, 1) Right (0, 2)\n",
            "  (0, 2) Down (1, 2)\n",
            "  (1, 2) Down (2, 2)\n",
            "  (2, 2) Right (2, 3)\n",
            "  (2, 3) Up (1, 3)\n",
            "Đường đi 2:\n",
            "  (2, 0) Up (1, 0)\n",
            "  (1, 0) Up (0, 0)\n",
            "  (0, 0) Right (0, 1)\n",
            "  (0, 1) Right (0, 2)\n",
            "  (0, 2) Down (1, 2)\n",
            "  (1, 2) Right (1, 3)\n",
            "Đường đi 3:\n",
            "  (2, 0) Up (1, 0)\n",
            "  (1, 0) Up (0, 0)\n",
            "  (0, 0) Right (0, 1)\n",
            "  (0, 1) Right (0, 2)\n",
            "  (0, 2) Right (0, 3)\n",
            "  (0, 3) Down (1, 3)\n",
            "Đường đi 4:\n",
            "  (2, 0) Right (2, 1)\n",
            "  (2, 1) Right (2, 2)\n",
            "  (2, 2) Up (1, 2)\n",
            "  (1, 2) Up (0, 2)\n",
            "  (0, 2) Right (0, 3)\n",
            "  (0, 3) Down (1, 3)\n",
            "Đường đi 5:\n",
            "  (2, 0) Right (2, 1)\n",
            "  (2, 1) Right (2, 2)\n",
            "  (2, 2) Up (1, 2)\n",
            "  (1, 2) Right (1, 3)\n",
            "Đường đi 6:\n",
            "  (2, 0) Right (2, 1)\n",
            "  (2, 1) Right (2, 2)\n",
            "  (2, 2) Right (2, 3)\n",
            "  (2, 3) Up (1, 3)\n"
          ]
        }
      ]
    }
  ]
}