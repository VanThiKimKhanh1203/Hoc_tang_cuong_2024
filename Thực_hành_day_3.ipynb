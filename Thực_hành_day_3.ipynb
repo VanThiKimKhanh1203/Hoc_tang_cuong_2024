{
  "nbformat": 4,
  "nbformat_minor": 0,
  "metadata": {
    "colab": {
      "provenance": [],
      "authorship_tag": "ABX9TyNalMBgOM5rjcB8Tp64equ5",
      "include_colab_link": true
    },
    "kernelspec": {
      "name": "python3",
      "display_name": "Python 3"
    },
    "language_info": {
      "name": "python"
    }
  },
  "cells": [
    {
      "cell_type": "markdown",
      "metadata": {
        "id": "view-in-github",
        "colab_type": "text"
      },
      "source": [
        "<a href=\"https://colab.research.google.com/github/VanThiKimKhanh1203/Hoc_tang_cuong_2024/blob/main/Th%E1%BB%B1c_h%C3%A0nh_day_3.ipynb\" target=\"_parent\"><img src=\"https://colab.research.google.com/assets/colab-badge.svg\" alt=\"Open In Colab\"/></a>"
      ]
    },
    {
      "cell_type": "code",
      "source": [
        "import numpy as np\n",
        "from collections import deque"
      ],
      "metadata": {
        "id": "DOy3mOjLZVg_"
      },
      "execution_count": 2,
      "outputs": []
    },
    {
      "cell_type": "code",
      "source": [
        "# Quy tắc khởi đầu\n",
        "START_POSITION = 1\n",
        "\n",
        "# Kiểm tra xem có đạt tới đích hay chưa (tương tự như winRule)\n",
        "def winRule(position, target):\n",
        "    return position == target"
      ],
      "metadata": {
        "id": "dBXpSxZiYWc5"
      },
      "execution_count": 3,
      "outputs": []
    },
    {
      "cell_type": "code",
      "source": [
        "# Sinh ra các nước đi (generateMoves)\n",
        "def generateMoves(position):\n",
        "    # Bước đi: i -> i+1 hoặc i -> 2*i\n",
        "    moves = []\n",
        "    moves.append(position + 1)  # Đi bộ\n",
        "    moves.append(position * 2)  # Dịch chuyển\n",
        "    return moves"
      ],
      "metadata": {
        "id": "uhm7raO7YYkK"
      },
      "execution_count": 4,
      "outputs": []
    },
    {
      "cell_type": "code",
      "source": [
        "# Tìm đường ngắn nhất bằng thuật toán BFS\n",
        "def bfs(start, target):\n",
        "    queue = deque([(start, 0)])  # (vị trí, thời gian)\n",
        "    visited = set([start])\n",
        "\n",
        "    while queue:\n",
        "        position, time = queue.popleft()\n",
        "\n",
        "        if winRule(position, target):\n",
        "            return time\n",
        "\n",
        "        for move in generateMoves(position):\n",
        "            if move <= target and move not in visited:\n",
        "                visited.add(move)\n",
        "                queue.append((move, time + (1 if move == position + 1 else 2)))\n",
        "\n",
        "    return -1  # Trường hợp không thể tìm được đường"
      ],
      "metadata": {
        "id": "BzY8vY70YdEF"
      },
      "execution_count": 5,
      "outputs": []
    },
    {
      "cell_type": "code",
      "source": [
        "# Yêu cầu nhập vị trí từ người dùng\n",
        "try:\n",
        "    n = int(input(\"Nhập vị trí đích n: \"))\n",
        "    if n < 1:\n",
        "        print(\"Vui lòng nhập một số lớn hơn 0.\")\n",
        "    else:\n",
        "        # Bắt đầu tính toán thời gian nhanh nhất\n",
        "        result = bfs(START_POSITION, n)\n",
        "        print(f\"Thời gian nhanh nhất để đến vị trí {n} là: {result} phút.\")\n",
        "except ValueError:\n",
        "    print(\"Vui lòng nhập một số hợp lệ.\")"
      ],
      "metadata": {
        "colab": {
          "base_uri": "https://localhost:8080/"
        },
        "id": "Ii8oLucLYf32",
        "outputId": "ca983d0d-11c2-4c13-a1ee-cd6c2941ee20"
      },
      "execution_count": 6,
      "outputs": [
        {
          "output_type": "stream",
          "name": "stdout",
          "text": [
            "Nhập vị trí đích n: 7\n",
            "Thời gian nhanh nhất để đến vị trí 7 là: 5 phút.\n"
          ]
        }
      ]
    }
  ]
}