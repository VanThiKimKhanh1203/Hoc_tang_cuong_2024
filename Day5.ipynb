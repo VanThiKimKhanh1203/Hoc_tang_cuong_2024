{
  "nbformat": 4,
  "nbformat_minor": 0,
  "metadata": {
    "colab": {
      "provenance": [],
      "authorship_tag": "ABX9TyNWyvivMtirpLwayR6bS0Se",
      "include_colab_link": true
    },
    "kernelspec": {
      "name": "python3",
      "display_name": "Python 3"
    },
    "language_info": {
      "name": "python"
    }
  },
  "cells": [
    {
      "cell_type": "markdown",
      "metadata": {
        "id": "view-in-github",
        "colab_type": "text"
      },
      "source": [
        "<a href=\"https://colab.research.google.com/github/VanThiKimKhanh1203/Hoc_tang_cuong_2024/blob/main/Day5.ipynb\" target=\"_parent\"><img src=\"https://colab.research.google.com/assets/colab-badge.svg\" alt=\"Open In Colab\"/></a>"
      ]
    },
    {
      "cell_type": "code",
      "source": [
        "from collections import deque\n",
        "import math"
      ],
      "metadata": {
        "id": "KMtR-iKkcq86"
      },
      "execution_count": 2,
      "outputs": []
    },
    {
      "cell_type": "code",
      "source": [
        "def cua_Duy_BFS(N):\n",
        "    # Khởi tạo chi phí thời gian tối thiểu từ trạm 1 đến N\n",
        "    T = [math.inf] * (N + 1)\n",
        "    T[1] = 0  # Thời gian tại trạm đầu tiên là 0\n",
        "\n",
        "    # Khởi tạo hàng đợi BFS\n",
        "    queue = deque([1])\n",
        "\n",
        "    while queue:\n",
        "        current_station = queue.popleft()\n",
        "        current_time = T[current_station]\n",
        "\n",
        "        # TH1: Đi bộ từ trạm i đến trạm i + 1\n",
        "        if current_station + 1 <= N:\n",
        "            walk_time = current_time + 1\n",
        "            if walk_time < T[current_station + 1]:\n",
        "                T[current_station + 1] = walk_time\n",
        "                queue.append(current_station + 1)\n",
        "\n",
        "        # TH2: Đi xe buýt từ trạm i đến trạm 2 * i với rủi ro\n",
        "        next_station = current_station * 2\n",
        "        if next_station <= N:\n",
        "            # Chi phí kỳ vọng khi đi xe buýt\n",
        "            p = 0.5\n",
        "            bus_time = current_time + (2 + p * T[next_station] + (1 - p) * (2 + T[current_station]))\n",
        "\n",
        "            if bus_time < T[next_station]:\n",
        "                T[next_station] = bus_time\n",
        "                queue.append(next_station)\n",
        "\n",
        "    return T[N]"
      ],
      "metadata": {
        "id": "_Na1gNJ2dcIy"
      },
      "execution_count": 3,
      "outputs": []
    },
    {
      "cell_type": "code",
      "source": [
        "# Cho phép người dùng nhập N\n",
        "try:\n",
        "    N = int(input(\"Nhập số trạm N: \"))\n",
        "    if N < 1:\n",
        "        raise ValueError(\"N phải là số nguyên dương.\")\n",
        "    result = cua_Duy_BFS(N)\n",
        "    print(f\"Thời gian tối thiểu để đến trạm {N} là: {result}\")\n",
        "except ValueError as e:\n",
        "    print(\"Vui lòng nhập một số nguyên dương hợp lệ.\")"
      ],
      "metadata": {
        "colab": {
          "base_uri": "https://localhost:8080/"
        },
        "id": "CxylrMRjd600",
        "outputId": "68a5751a-bfee-4a7d-e589-8c6006bfb805"
      },
      "execution_count": 5,
      "outputs": [
        {
          "output_type": "stream",
          "name": "stdout",
          "text": [
            "Nhập số trạm N: 12\n",
            "Thời gian tối thiểu để đến trạm 12 là: 11\n"
          ]
        }
      ]
    }
  ]
}